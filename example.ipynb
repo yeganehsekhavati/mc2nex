{
 "cells": [
  {
   "cell_type": "code",
   "execution_count": 19,
   "metadata": {},
   "outputs": [],
   "source": [
    "import logging\n",
    "logger = logging.getLogger()"
   ]
  },
  {
   "cell_type": "code",
   "execution_count": 2,
   "metadata": {},
   "outputs": [],
   "source": [
    "import pandas as pd"
   ]
  },
  {
   "cell_type": "code",
   "execution_count": 3,
   "metadata": {},
   "outputs": [],
   "source": [
    "csv_path = \"\""
   ]
  },
  {
   "cell_type": "code",
   "execution_count": 6,
   "metadata": {},
   "outputs": [],
   "source": [
    "df = pd.read_csv(csv_path, index_col=0)"
   ]
  },
  {
   "cell_type": "code",
   "execution_count": null,
   "metadata": {},
   "outputs": [],
   "source": [
    "df.head()"
   ]
  },
  {
   "cell_type": "code",
   "execution_count": 32,
   "metadata": {},
   "outputs": [],
   "source": [
    "nexus_header = '''#NEXUS\n",
    "[written by csv2nex - jam.muskopf@gmail.com]\n",
    "'''\n",
    "\n",
    "fmt_taxa_name = lambda label: label.replace(' ', '_')\n",
    "taxa_labels = \" \".join([fmt_taxa_name(taxa_label) for taxa_label in df.index.values])\n",
    "nexus_taxa = f'''\n",
    "BEGIN TAXA;\n",
    "\tTITLE Taxa;\n",
    "\tDIMENSIONS NTAX={len(df.index)};\n",
    "\tTAXLABELS\n",
    "\t\t{taxa_labels}\n",
    "\t;\n",
    "\n",
    "END;\n",
    "'''"
   ]
  },
  {
   "cell_type": "code",
   "execution_count": 33,
   "metadata": {},
   "outputs": [
    {
     "data": {
      "text/plain": [
       "{'0', '1', '2', '3', '4', '5', '?'}"
      ]
     },
     "execution_count": 33,
     "metadata": {},
     "output_type": "execute_result"
    }
   ],
   "source": [
    "set(df.values.flatten())"
   ]
  },
  {
   "cell_type": "code",
   "execution_count": 34,
   "metadata": {},
   "outputs": [],
   "source": [
    "fmt_cstate_label = lambda label: label.replace(\"'\", '\"')\n",
    "character_state_labels = \",\\n\".join([f\"\\t\\t{i} '{fmt_cstate_label(name)}'\" for i, name in enumerate(df.columns, start=1)])\n",
    "\n",
    "missing = '?'\n",
    "cstates = set(df.values.flatten())\n",
    "cstates = [s for s in cstates if s != missing]\n",
    "\n",
    "valid_states = list()\n",
    "for state in cstates:\n",
    "    try:\n",
    "        int(state)\n",
    "    except:\n",
    "        logger.warning(f'Cannot cast character state {state} as integer; filling with \"{missing}\"')\n",
    "        df[df == state] = missing\n",
    "    else:\n",
    "        valid_states.append(state)\n",
    "\n",
    "valid_states.sort()\n",
    "    \n",
    "\n",
    "max_len_name = max([len(taxa_name) for taxa_name in df.index.values])\n",
    "pad_taxa_name = lambda name: ' '*(max_len_name - len(name) + 1)\n",
    "encode_row = lambda row: \"\".join(row.values.tolist())\n",
    "\n",
    "matrix = '\\n'.join([f'\\t{fmt_taxa_name(taxa_name)}{pad_taxa_name(taxa_name)}{encode_row(row)}' for taxa_name, row in df.T.items()])\n",
    "\n",
    "nexus_character = f'''\n",
    "BEGIN CHARACTERS;\n",
    "\tTITLE  Character_Matrix;\n",
    "\tDIMENSIONS  NCHAR={len(df.columns)};\n",
    "\tFORMAT DATATYPE = STANDARD RESPECTCASE GAP = - MISSING = {missing} SYMBOLS = \"  {\" \".join(valid_states)}\";\n",
    "\tCHARSTATELABELS\n",
    "{character_state_labels} ;\n",
    "\tMATRIX\n",
    "{matrix}\n",
    "\n",
    ";\n",
    "END;\n",
    "'''\n"
   ]
  },
  {
   "cell_type": "code",
   "execution_count": 35,
   "metadata": {},
   "outputs": [],
   "source": [
    "with open('result.nex', 'w') as f:\n",
    "    f.write(\"\\n\".join([nexus_header, nexus_taxa, nexus_character]))"
   ]
  },
  {
   "cell_type": "code",
   "execution_count": null,
   "metadata": {},
   "outputs": [],
   "source": []
  }
 ],
 "metadata": {
  "kernelspec": {
   "display_name": "base",
   "language": "python",
   "name": "python3"
  },
  "language_info": {
   "codemirror_mode": {
    "name": "ipython",
    "version": 3
   },
   "file_extension": ".py",
   "mimetype": "text/x-python",
   "name": "python",
   "nbconvert_exporter": "python",
   "pygments_lexer": "ipython3",
   "version": "3.8.8"
  },
  "orig_nbformat": 4
 },
 "nbformat": 4,
 "nbformat_minor": 2
}
